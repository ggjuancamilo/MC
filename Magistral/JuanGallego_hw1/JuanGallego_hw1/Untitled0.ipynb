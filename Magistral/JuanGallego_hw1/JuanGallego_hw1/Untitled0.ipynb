{
 "cells": [
  {
   "cell_type": "code",
   "execution_count": 6,
   "metadata": {
    "collapsed": false,
    "jupyter": {
     "outputs_hidden": false
    }
   },
   "outputs": [],
   "source": []
  },
  {
   "cell_type": "code",
   "execution_count": 1,
   "metadata": {
    "collapsed": false,
    "jupyter": {
     "outputs_hidden": false
    }
   },
   "outputs": [
    {
     "name": "stdout",
     "output_type": "stream",
     "text": [
      "\u001b[0m\u001b[00;32mextraccion.sh\u001b[0m*    \u001b[00mtanualintentofallidoggg.py\u001b[0m  \u001b[00mtanual.py\u001b[0m         \u001b[00mtempvsalt2014.py~\u001b[0m  \u001b[00mtpatrones.py~\u001b[0m\n",
      "\u001b[00mextraccion.sh~\u001b[0m    \u001b[00mtanualintentofallido.py\u001b[0m     \u001b[00mtanual.py~\u001b[0m        \u001b[00mtmp.sh~\u001b[0m            \u001b[00mUntitled0.ipynb\u001b[0m\n",
      "\u001b[01;34mJuanGallego_hw1\u001b[0m/  \u001b[00mtanualintentofallido.py~\u001b[0m    \u001b[00mtempvsalt2014.py\u001b[0m  \u001b[00mtpatrones.py\u001b[0m       \u001b[00mvarilla.py\u001b[0m\n"
     ]
    }
   ],
   "source": [
    "ls"
   ]
  },
  {
   "cell_type": "code",
   "execution_count": 2,
   "metadata": {
    "collapsed": false,
    "jupyter": {
     "outputs_hidden": false
    }
   },
   "outputs": [
    {
     "name": "stdout",
     "output_type": "stream",
     "text": [
      "/home/linus/JuanGallego_hw1/JuanGallego_hw1\n"
     ]
    }
   ],
   "source": [
    "cd JuanGallego_hw1/\n"
   ]
  },
  {
   "cell_type": "code",
   "execution_count": 3,
   "metadata": {
    "collapsed": false,
    "jupyter": {
     "outputs_hidden": false
    }
   },
   "outputs": [
    {
     "name": "stdout",
     "output_type": "stream",
     "text": [
      "\u001b[0m\u001b[00mclave.csv\u001b[0m  \u001b[00;32mIDEAM.txt\u001b[0m*     \u001b[01;34m__MACOSX\u001b[0m/   \u001b[00mtanual.py\u001b[0m   \u001b[00mtempvsalt2014.py\u001b[0m  \u001b[00mtempvstiempo.csv\u001b[0m\n",
      "\u001b[00mest.txt\u001b[0m    \u001b[00;31mIDEAM.txt.zip\u001b[0m  \u001b[00mtAnual.csv\u001b[0m  \u001b[00mtAnual.txt\u001b[0m  \u001b[00mtempvsalt.txt\u001b[0m     \u001b[00mtpatrones.py\u001b[0m\n"
     ]
    }
   ],
   "source": [
    "ls"
   ]
  },
  {
   "cell_type": "code",
   "execution_count": 4,
   "metadata": {
    "collapsed": false,
    "jupyter": {
     "outputs_hidden": false
    }
   },
   "outputs": [],
   "source": [
    "import matplotlib.pyplot as plt\n",
    "import numpy as np\n",
    "import csv, operator\n",
    "\n",
    "\n",
    "data = np.loadtxt(\"tAnual.txt\")\n",
    "es = np.loadtxt(\"est.txt\")"
   ]
  },
  {
   "cell_type": "code",
   "execution_count": 5,
   "metadata": {
    "collapsed": false,
    "jupyter": {
     "outputs_hidden": false
    }
   },
   "outputs": [],
   "source": [
    "#for i in range(0,1):\n",
    "#\tfor j in range (0,1205):\n",
    "#\t\tif (data[j,0]==es[i]):\n",
    "#\t\t\taa.append(data[j,1])\n",
    "#\t\t\tbb.append(data[j,2])\n",
    "#\txx.append(aa)\n",
    "#\tyy.append(bb)\n",
    "#\twhile len(aa)>0:\n",
    "#\t\taa.pop()\n",
    "#\twhile len(bb)>0:\n",
    "#\t\tbb.pop()\n"
   ]
  },
  {
   "cell_type": "code",
   "execution_count": 6,
   "metadata": {
    "collapsed": false,
    "jupyter": {
     "outputs_hidden": false
    }
   },
   "outputs": [
    {
     "data": {
      "text/plain": [
       "array([  1.70150100e+07,   1.97900000e+03,   2.76000000e+01])"
      ]
     },
     "execution_count": 6,
     "metadata": {},
     "output_type": "execute_result"
    }
   ],
   "source": [
    "data[1,:]\n"
   ]
  },
  {
   "cell_type": "code",
   "execution_count": 7,
   "metadata": {
    "collapsed": false,
    "jupyter": {
     "outputs_hidden": false
    }
   },
   "outputs": [
    {
     "data": {
      "text/plain": [
       "17015010.0"
      ]
     },
     "execution_count": 7,
     "metadata": {},
     "output_type": "execute_result"
    }
   ],
   "source": [
    "es[0]"
   ]
  },
  {
   "cell_type": "code",
   "execution_count": 8,
   "metadata": {
    "collapsed": false,
    "jupyter": {
     "outputs_hidden": false
    }
   },
   "outputs": [],
   "source": [
    "\n",
    "aa=[]\n",
    "bb=[]\n",
    "xx=[]\n",
    "yy=[]"
   ]
  },
  {
   "cell_type": "code",
   "execution_count": 9,
   "metadata": {
    "collapsed": false,
    "jupyter": {
     "outputs_hidden": false
    }
   },
   "outputs": [],
   "source": [
    "for i in range (0,36):\n",
    "    for j in range (0,1205):\n",
    "        if(data[j,0] == es[i]):\n",
    "            aa.append(data[j,1])\n",
    "            bb.append(data[j,2])\n",
    "xx.append(aa)\n",
    "yy.append(bb)\n",
    "#while len(aa)>0:\n",
    " #   aa.pop()  \n",
    "\n",
    "        "
   ]
  },
  {
   "cell_type": "code",
   "execution_count": 11,
   "metadata": {
    "collapsed": false,
    "jupyter": {
     "outputs_hidden": false
    }
   },
   "outputs": [],
   "source": [
    "zz="
   ]
  },
  {
   "cell_type": "code",
   "execution_count": 14,
   "metadata": {
    "collapsed": false,
    "jupyter": {
     "outputs_hidden": false
    }
   },
   "outputs": [
    {
     "ename": "IndexError",
     "evalue": "list index out of range",
     "output_type": "error",
     "traceback": [
      "\u001b[1;31m---------------------------------------------------------------------------\u001b[0m\n\u001b[1;31mIndexError\u001b[0m                                Traceback (most recent call last)",
      "\u001b[1;32m<ipython-input-14-c29f93ac3f88>\u001b[0m in \u001b[0;36m<module>\u001b[1;34m()\u001b[0m\n\u001b[0;32m      3\u001b[0m \u001b[1;32mfor\u001b[0m \u001b[0mj\u001b[0m \u001b[1;32min\u001b[0m \u001b[0mrange\u001b[0m\u001b[1;33m(\u001b[0m\u001b[1;36m0\u001b[0m\u001b[1;33m,\u001b[0m\u001b[1;36m36\u001b[0m\u001b[1;33m)\u001b[0m\u001b[1;33m:\u001b[0m\u001b[1;33m\u001b[0m\u001b[0m\n\u001b[0;32m      4\u001b[0m     \u001b[1;32mfor\u001b[0m \u001b[0mi\u001b[0m \u001b[1;32min\u001b[0m \u001b[0mrange\u001b[0m\u001b[1;33m(\u001b[0m\u001b[1;36m0\u001b[0m\u001b[1;33m,\u001b[0m\u001b[1;36m1205\u001b[0m\u001b[1;33m)\u001b[0m\u001b[1;33m:\u001b[0m\u001b[1;33m\u001b[0m\u001b[0m\n\u001b[1;32m----> 5\u001b[1;33m         \u001b[1;32mif\u001b[0m\u001b[1;33m(\u001b[0m\u001b[0mxx\u001b[0m\u001b[1;33m[\u001b[0m\u001b[0mi\u001b[0m\u001b[1;33m-\u001b[0m\u001b[1;36m1\u001b[0m\u001b[1;33m]\u001b[0m\u001b[1;33m<\u001b[0m\u001b[0mxx\u001b[0m\u001b[1;33m[\u001b[0m\u001b[0mi\u001b[0m\u001b[1;33m]\u001b[0m\u001b[1;33m)\u001b[0m\u001b[1;33m:\u001b[0m\u001b[1;33m\u001b[0m\u001b[0m\n\u001b[0m\u001b[0;32m      6\u001b[0m             \u001b[0mplt\u001b[0m\u001b[1;33m.\u001b[0m\u001b[0mscatter\u001b[0m\u001b[1;33m(\u001b[0m\u001b[0mxx\u001b[0m\u001b[1;33m[\u001b[0m\u001b[0mi\u001b[0m\u001b[1;33m]\u001b[0m\u001b[1;33m,\u001b[0m\u001b[0myy\u001b[0m\u001b[1;33m[\u001b[0m\u001b[0mi\u001b[0m\u001b[1;33m]\u001b[0m\u001b[1;33m,\u001b[0m \u001b[0mlabel\u001b[0m \u001b[1;33m=\u001b[0m \u001b[0mes\u001b[0m\u001b[1;33m[\u001b[0m\u001b[0mj\u001b[0m\u001b[1;33m]\u001b[0m\u001b[1;33m)\u001b[0m\u001b[1;33m\u001b[0m\u001b[0m\n\u001b[0;32m      7\u001b[0m             \u001b[0mplt\u001b[0m\u001b[1;33m.\u001b[0m\u001b[0mlegend\u001b[0m\u001b[1;33m(\u001b[0m\u001b[1;33m)\u001b[0m\u001b[1;33m\u001b[0m\u001b[0m\n",
      "\u001b[1;31mIndexError\u001b[0m: list index out of range"
     ]
    }
   ],
   "source": [
    "bbb=0\n",
    "counter = 0\n",
    "for j in range(0,36):\n",
    "    for i in range(0,1205):\n",
    "        if(xx[i-1]<xx[i]):\n",
    "            plt.scatter(xx[i+counter],yy[i+counter], label = es[j])\n",
    "            plt.legend()\n",
    "            plt.title(\"Temperatura vs Ano\", fontsize=16, fontweight='bold')\n",
    "            plt.xlabel(\"ano\")\n",
    "            plt.ylabel(\"temperatura\")\n",
    "            plt.show()\n",
    "            bbb = bbb+1\n",
    "        conter = counter + bbb"
   ]
  },
  {
   "cell_type": "code",
   "execution_count": null,
   "metadata": {
    "collapsed": false,
    "jupyter": {
     "outputs_hidden": false
    }
   },
   "outputs": [],
   "source": []
  }
 ],
 "metadata": {
  "kernelspec": {
   "display_name": "Python 3",
   "language": "python",
   "name": "python3"
  },
  "language_info": {
   "codemirror_mode": {
    "name": "ipython",
    "version": 3
   },
   "file_extension": ".py",
   "mimetype": "text/x-python",
   "name": "python",
   "nbconvert_exporter": "python",
   "pygments_lexer": "ipython3",
   "version": "3.7.6"
  }
 },
 "nbformat": 4,
 "nbformat_minor": 4
}
