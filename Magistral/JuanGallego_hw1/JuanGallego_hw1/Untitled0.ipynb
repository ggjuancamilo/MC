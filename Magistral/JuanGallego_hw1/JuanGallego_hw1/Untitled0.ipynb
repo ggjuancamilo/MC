{
 "metadata": {
  "name": "",
  "signature": "sha256:472dcb19226daf41b9730bf3eb807e2eea9118739c957d578975a12df4b76ae9"
 },
 "nbformat": 3,
 "nbformat_minor": 0,
 "worksheets": [
  {
   "cells": [
    {
     "cell_type": "code",
     "collapsed": false,
     "input": [],
     "language": "python",
     "metadata": {},
     "outputs": [],
     "prompt_number": 6
    },
    {
     "cell_type": "code",
     "collapsed": false,
     "input": [
      "ls"
     ],
     "language": "python",
     "metadata": {},
     "outputs": [
      {
       "output_type": "stream",
       "stream": "stdout",
       "text": [
        "\u001b[0m\u001b[00;32mextraccion.sh\u001b[0m*    \u001b[00mtanualintentofallidoggg.py\u001b[0m  \u001b[00mtanual.py\u001b[0m         \u001b[00mtempvsalt2014.py~\u001b[0m  \u001b[00mtpatrones.py~\u001b[0m\r\n",
        "\u001b[00mextraccion.sh~\u001b[0m    \u001b[00mtanualintentofallido.py\u001b[0m     \u001b[00mtanual.py~\u001b[0m        \u001b[00mtmp.sh~\u001b[0m            \u001b[00mUntitled0.ipynb\u001b[0m\r\n",
        "\u001b[01;34mJuanGallego_hw1\u001b[0m/  \u001b[00mtanualintentofallido.py~\u001b[0m    \u001b[00mtempvsalt2014.py\u001b[0m  \u001b[00mtpatrones.py\u001b[0m       \u001b[00mvarilla.py\u001b[0m\r\n"
       ]
      }
     ],
     "prompt_number": 1
    },
    {
     "cell_type": "code",
     "collapsed": false,
     "input": [
      "cd JuanGallego_hw1/\n"
     ],
     "language": "python",
     "metadata": {},
     "outputs": [
      {
       "output_type": "stream",
       "stream": "stdout",
       "text": [
        "/home/linus/JuanGallego_hw1/JuanGallego_hw1\n"
       ]
      }
     ],
     "prompt_number": 2
    },
    {
     "cell_type": "code",
     "collapsed": false,
     "input": [
      "ls"
     ],
     "language": "python",
     "metadata": {},
     "outputs": [
      {
       "output_type": "stream",
       "stream": "stdout",
       "text": [
        "\u001b[0m\u001b[00mclave.csv\u001b[0m  \u001b[00;32mIDEAM.txt\u001b[0m*     \u001b[01;34m__MACOSX\u001b[0m/   \u001b[00mtanual.py\u001b[0m   \u001b[00mtempvsalt2014.py\u001b[0m  \u001b[00mtempvstiempo.csv\u001b[0m\r\n",
        "\u001b[00mest.txt\u001b[0m    \u001b[00;31mIDEAM.txt.zip\u001b[0m  \u001b[00mtAnual.csv\u001b[0m  \u001b[00mtAnual.txt\u001b[0m  \u001b[00mtempvsalt.txt\u001b[0m     \u001b[00mtpatrones.py\u001b[0m\r\n"
       ]
      }
     ],
     "prompt_number": 3
    },
    {
     "cell_type": "code",
     "collapsed": false,
     "input": [
      "import matplotlib.pyplot as plt\n",
      "import numpy as np\n",
      "import csv, operator\n",
      "\n",
      "\n",
      "data = np.loadtxt(\"tAnual.txt\")\n",
      "es = np.loadtxt(\"est.txt\")"
     ],
     "language": "python",
     "metadata": {},
     "outputs": [],
     "prompt_number": 4
    },
    {
     "cell_type": "code",
     "collapsed": false,
     "input": [
      "#for i in range(0,1):\n",
      "#\tfor j in range (0,1205):\n",
      "#\t\tif (data[j,0]==es[i]):\n",
      "#\t\t\taa.append(data[j,1])\n",
      "#\t\t\tbb.append(data[j,2])\n",
      "#\txx.append(aa)\n",
      "#\tyy.append(bb)\n",
      "#\twhile len(aa)>0:\n",
      "#\t\taa.pop()\n",
      "#\twhile len(bb)>0:\n",
      "#\t\tbb.pop()\n"
     ],
     "language": "python",
     "metadata": {},
     "outputs": [],
     "prompt_number": 5
    },
    {
     "cell_type": "code",
     "collapsed": false,
     "input": [
      "data[1,:]\n"
     ],
     "language": "python",
     "metadata": {},
     "outputs": [
      {
       "metadata": {},
       "output_type": "pyout",
       "prompt_number": 6,
       "text": [
        "array([  1.70150100e+07,   1.97900000e+03,   2.76000000e+01])"
       ]
      }
     ],
     "prompt_number": 6
    },
    {
     "cell_type": "code",
     "collapsed": false,
     "input": [
      "es[0]"
     ],
     "language": "python",
     "metadata": {},
     "outputs": [
      {
       "metadata": {},
       "output_type": "pyout",
       "prompt_number": 7,
       "text": [
        "17015010.0"
       ]
      }
     ],
     "prompt_number": 7
    },
    {
     "cell_type": "code",
     "collapsed": false,
     "input": [
      "\n",
      "aa=[]\n",
      "bb=[]\n",
      "xx=[]\n",
      "yy=[]"
     ],
     "language": "python",
     "metadata": {},
     "outputs": [],
     "prompt_number": 8
    },
    {
     "cell_type": "code",
     "collapsed": false,
     "input": [
      "for i in range (0,36):\n",
      "    for j in range (0,1205):\n",
      "        if(data[j,0] == es[i]):\n",
      "            aa.append(data[j,1])\n",
      "            bb.append(data[j,2])\n",
      "xx.append(aa)\n",
      "yy.append(bb)\n",
      "#while len(aa)>0:\n",
      " #   aa.pop()  \n",
      "\n",
      "        "
     ],
     "language": "python",
     "metadata": {},
     "outputs": [],
     "prompt_number": 9
    },
    {
     "cell_type": "code",
     "collapsed": false,
     "input": [
      "zz="
     ],
     "language": "python",
     "metadata": {},
     "outputs": [],
     "prompt_number": 11
    },
    {
     "cell_type": "code",
     "collapsed": false,
     "input": [
      "bbb=0\n",
      "counter = 0\n",
      "for j in range(0,36):\n",
      "    for i in range(0,1205):\n",
      "        if(xx[i-1]<xx[i]):\n",
      "            plt.scatter(xx[i+counter],yy[i+counter], label = es[j])\n",
      "            plt.legend()\n",
      "            plt.title(\"Temperatura vs Ano\", fontsize=16, fontweight='bold')\n",
      "            plt.xlabel(\"ano\")\n",
      "            plt.ylabel(\"temperatura\")\n",
      "            plt.show()\n",
      "            bbb = bbb+1\n",
      "        conter = counter + bbb"
     ],
     "language": "python",
     "metadata": {},
     "outputs": [
      {
       "ename": "IndexError",
       "evalue": "list index out of range",
       "output_type": "pyerr",
       "traceback": [
        "\u001b[1;31m---------------------------------------------------------------------------\u001b[0m\n\u001b[1;31mIndexError\u001b[0m                                Traceback (most recent call last)",
        "\u001b[1;32m<ipython-input-14-c29f93ac3f88>\u001b[0m in \u001b[0;36m<module>\u001b[1;34m()\u001b[0m\n\u001b[0;32m      3\u001b[0m \u001b[1;32mfor\u001b[0m \u001b[0mj\u001b[0m \u001b[1;32min\u001b[0m \u001b[0mrange\u001b[0m\u001b[1;33m(\u001b[0m\u001b[1;36m0\u001b[0m\u001b[1;33m,\u001b[0m\u001b[1;36m36\u001b[0m\u001b[1;33m)\u001b[0m\u001b[1;33m:\u001b[0m\u001b[1;33m\u001b[0m\u001b[0m\n\u001b[0;32m      4\u001b[0m     \u001b[1;32mfor\u001b[0m \u001b[0mi\u001b[0m \u001b[1;32min\u001b[0m \u001b[0mrange\u001b[0m\u001b[1;33m(\u001b[0m\u001b[1;36m0\u001b[0m\u001b[1;33m,\u001b[0m\u001b[1;36m1205\u001b[0m\u001b[1;33m)\u001b[0m\u001b[1;33m:\u001b[0m\u001b[1;33m\u001b[0m\u001b[0m\n\u001b[1;32m----> 5\u001b[1;33m         \u001b[1;32mif\u001b[0m\u001b[1;33m(\u001b[0m\u001b[0mxx\u001b[0m\u001b[1;33m[\u001b[0m\u001b[0mi\u001b[0m\u001b[1;33m-\u001b[0m\u001b[1;36m1\u001b[0m\u001b[1;33m]\u001b[0m\u001b[1;33m<\u001b[0m\u001b[0mxx\u001b[0m\u001b[1;33m[\u001b[0m\u001b[0mi\u001b[0m\u001b[1;33m]\u001b[0m\u001b[1;33m)\u001b[0m\u001b[1;33m:\u001b[0m\u001b[1;33m\u001b[0m\u001b[0m\n\u001b[0m\u001b[0;32m      6\u001b[0m             \u001b[0mplt\u001b[0m\u001b[1;33m.\u001b[0m\u001b[0mscatter\u001b[0m\u001b[1;33m(\u001b[0m\u001b[0mxx\u001b[0m\u001b[1;33m[\u001b[0m\u001b[0mi\u001b[0m\u001b[1;33m]\u001b[0m\u001b[1;33m,\u001b[0m\u001b[0myy\u001b[0m\u001b[1;33m[\u001b[0m\u001b[0mi\u001b[0m\u001b[1;33m]\u001b[0m\u001b[1;33m,\u001b[0m \u001b[0mlabel\u001b[0m \u001b[1;33m=\u001b[0m \u001b[0mes\u001b[0m\u001b[1;33m[\u001b[0m\u001b[0mj\u001b[0m\u001b[1;33m]\u001b[0m\u001b[1;33m)\u001b[0m\u001b[1;33m\u001b[0m\u001b[0m\n\u001b[0;32m      7\u001b[0m             \u001b[0mplt\u001b[0m\u001b[1;33m.\u001b[0m\u001b[0mlegend\u001b[0m\u001b[1;33m(\u001b[0m\u001b[1;33m)\u001b[0m\u001b[1;33m\u001b[0m\u001b[0m\n",
        "\u001b[1;31mIndexError\u001b[0m: list index out of range"
       ]
      }
     ],
     "prompt_number": 14
    },
    {
     "cell_type": "code",
     "collapsed": false,
     "input": [],
     "language": "python",
     "metadata": {},
     "outputs": []
    }
   ],
   "metadata": {}
  }
 ]
}