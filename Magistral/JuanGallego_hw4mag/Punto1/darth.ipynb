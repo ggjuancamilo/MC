{
 "cells": [
  {
   "cell_type": "code",
   "execution_count": 1,
   "metadata": {
    "collapsed": false
   },
   "outputs": [
    {
     "name": "stdout",
     "output_type": "stream",
     "text": [
      "Populating the interactive namespace from numpy and matplotlib\n"
     ]
    }
   ],
   "source": [
    "%pylab inline\n",
    "import numpy as np\n",
    "import matplotlib.pyplot as plt\n",
    "from scipy.fftpack import fft,fftfreq,ifft\n",
    "from scipy.io import wavfile\n",
    "from scipy.signal import convolve\n"
   ]
  },
  {
   "cell_type": "code",
   "execution_count": 2,
   "metadata": {
    "collapsed": false
   },
   "outputs": [],
   "source": [
    "fs, data = wavfile.read('Darth_Vader.wav')\n",
    "fsi, datai = wavfile.read('mivoz.wav')\n"
   ]
  },
  {
   "cell_type": "code",
   "execution_count": 3,
   "metadata": {
    "collapsed": false
   },
   "outputs": [],
   "source": [
    "fs=fs*0.8"
   ]
  },
  {
   "cell_type": "code",
   "execution_count": 4,
   "metadata": {
    "collapsed": true
   },
   "outputs": [],
   "source": [
    "data_norm=data*1./abs(data).max()\n",
    "datai_norm=datai*1./abs(datai).max()"
   ]
  },
  {
   "cell_type": "code",
   "execution_count": 5,
   "metadata": {
    "collapsed": false
   },
   "outputs": [],
   "source": [
    "n_t=len(data)-1\n",
    "n_ti=len(datai)-1\n",
    "\n"
   ]
  },
  {
   "cell_type": "code",
   "execution_count": 6,
   "metadata": {
    "collapsed": false
   },
   "outputs": [],
   "source": [
    "x=[]\n",
    "for i in range (len(data)-1):\n",
    "    x.append(data[i][0])\n",
    "xi=[]\n",
    "for i in range (len(datai)-1):\n",
    "    xi.append(datai[i][0])\n",
    "x=x+1.4*(np.random.rand(len(x))+0.7)"
   ]
  },
  {
   "cell_type": "code",
   "execution_count": 7,
   "metadata": {
    "collapsed": false,
    "scrolled": true
   },
   "outputs": [
    {
     "data": {
      "text/plain": [
       "[<matplotlib.lines.Line2D at 0x7f6f2b7d8410>]"
      ]
     },
     "execution_count": 7,
     "metadata": {},
     "output_type": "execute_result"
    },
    {
     "data": {
      "image/png": "[encoded data removed]",
      "text/plain": [
       "<matplotlib.figure.Figure at 0x7f6f2b85ff90>"
      ]
     },
     "metadata": {},
     "output_type": "display_data"
    }
   ],
   "source": [
    "plt.plot(x)\n"
   ]
  },
  {
   "cell_type": "code",
   "execution_count": 8,
   "metadata": {
    "collapsed": false,
    "scrolled": true
   },
   "outputs": [
    {
     "name": "stdout",
     "output_type": "stream",
     "text": [
      "440319\n",
      "441175\n",
      "440319\n",
      "440319\n"
     ]
    }
   ],
   "source": [
    "fft_xx = fft(x) / len(x)\n",
    "freq=fftfreq(n_t,1/(fs*1.)) \n",
    "fft_xxi = fft(xi) / len(xi)\n",
    "freqi=fftfreq(n_t,1/(fsi*1.)) \n",
    "print len(fft_xx)\n",
    "print len(fft_xxi)\n",
    "print len(freq)\n",
    "print len(freqi)"
   ]
  },
  {
   "cell_type": "code",
   "execution_count": 9,
   "metadata": {
    "collapsed": false,
    "scrolled": false
   },
   "outputs": [
    {
     "name": "stdout",
     "output_type": "stream",
     "text": [
      "440319\n",
      "441175\n",
      "440319\n",
      "440319\n"
     ]
    }
   ],
   "source": [
    "fft_x=[0]\n",
    "for i in range (1,len(fft_xx)):\n",
    "    fft_x.append(fft_xx[i])\n",
    "print len (fft_x)\n",
    "fft_xi=[0]\n",
    "for i in range (1,len(fft_xxi)):\n",
    "    fft_xi.append(fft_xxi[i])\n",
    "print len (fft_xi)\n",
    "print len(freq)\n",
    "print len(freqi)"
   ]
  },
  {
   "cell_type": "code",
   "execution_count": 10,
   "metadata": {
    "collapsed": false
   },
   "outputs": [
    {
     "data": {
      "text/plain": [
       "(-8000, 8000)"
      ]
     },
     "execution_count": 10,
     "metadata": {},
     "output_type": "execute_result"
    },
    {
     "data": {
      "image/png": "[encoded data removed]",
      "text/plain": [
       "<matplotlib.figure.Figure at 0x7f6f2a55a450>"
      ]
     },
     "metadata": {},
     "output_type": "display_data"
    }
   ],
   "source": [
    "plt.plot(freq,np.abs(fft_x))\n",
    "plt.xlim(-8000,8000)\n",
    "\n"
   ]
  },
  {
   "cell_type": "code",
   "execution_count": 11,
   "metadata": {
    "collapsed": false
   },
   "outputs": [
    {
     "data": {
      "text/plain": [
       "440319"
      ]
     },
     "execution_count": 11,
     "metadata": {},
     "output_type": "execute_result"
    }
   ],
   "source": [
    "fft_c=[]\n",
    "for i in range (len(fft_x)):\n",
    "    fft_c.append(fft_xi[i])\n",
    "len(fft_c)\n",
    "for i in range (len(fft_x)/6,len(fft_x)):\n",
    "    fft_c[i]=fft_c[i]/6\n",
    "len(fft_c)"
   ]
  },
  {
   "cell_type": "code",
   "execution_count": 12,
   "metadata": {
    "collapsed": false,
    "scrolled": true
   },
   "outputs": [
    {
     "data": {
      "text/plain": [
       "440319"
      ]
     },
     "execution_count": 12,
     "metadata": {},
     "output_type": "execute_result"
    }
   ],
   "source": [
    "freq1=[]\n",
    "for i in range (0,len(freq)):\n",
    "    freq1.append(freqi[i])\n",
    "len (freq1)"
   ]
  },
  {
   "cell_type": "code",
   "execution_count": 13,
   "metadata": {
    "collapsed": false
   },
   "outputs": [],
   "source": [
    "\n",
    "clean_f = ifft(fft_c) \n",
    "wavfile.write('mivozdarth.wav',fs,np.real(clean_f))"
   ]
  },
  {
   "cell_type": "code",
   "execution_count": null,
   "metadata": {
    "collapsed": true
   },
   "outputs": [],
   "source": []
  },
  {
   "cell_type": "code",
   "execution_count": null,
   "metadata": {
    "collapsed": true
   },
   "outputs": [],
   "source": []
  },
  {
   "cell_type": "code",
   "execution_count": null,
   "metadata": {
    "collapsed": true
   },
   "outputs": [],
   "source": []
  }
 ],
 "metadata": {
  "kernelspec": {
   "display_name": "Python 2",
   "language": "python",
   "name": "python2"
  },
  "language_info": {
   "codemirror_mode": {
    "name": "ipython",
    "version": 2
   },
   "file_extension": ".py",
   "mimetype": "text/x-python",
   "name": "python",
   "nbconvert_exporter": "python",
   "pygments_lexer": "ipython2",
   "version": "2.7.10"
  }
 },
 "nbformat": 4,
 "nbformat_minor": 0
}
