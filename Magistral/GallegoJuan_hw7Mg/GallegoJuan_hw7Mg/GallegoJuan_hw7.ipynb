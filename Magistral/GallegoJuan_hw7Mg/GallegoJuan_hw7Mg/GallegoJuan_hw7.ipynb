{
 "cells": [
  {
   "cell_type": "markdown",
   "metadata": {},
   "source": [
    "# Tarea 7\n",
    "## Métodos Computacionales (2016-1)\n",
    "\n",
    "Esta tarea es individual y debe entregarse por Sicua Plus como un único archivo con extensión \".ipynb\". Verifique que su notebook pueda ejecutarse en orden."
   ]
  },
  {
   "cell_type": "markdown",
   "metadata": {},
   "source": [
    "# La Física\n",
    "## Luminosidad, magnitud aparente y magnitud relativa\n",
    "En astronomía hay dos cantidades claves para entender la luminosidad de los objetos en el cielo\n",
    "\n",
    "+ Por un lado tenemos la magnitud aparente, la cual es una medida de la luminosidad de un objeto que se observa desde la tierra. Solemos denotarla por la letra $m$. Aquí tenemos una lista de las magnitudes aparentes de algunos cuerpos celestes (de Wikipedia):\n",
    "\n",
    "\n",
    " | Magnitud aparente ($m$) | Objeto celeste |\n",
    " | ----------------------- | -------------- |\n",
    " | -26.8 | Sol |\n",
    " | -12.6 | Luna llena |\n",
    " | -4.4  | Brillo máximo de Venus |\n",
    " | -2.9  | Brillo máximo de Júpiter |\n",
    " | -2.8  | Brillo máximo de Marte |\n",
    " | -1.9  | Brillo máximo de Mercurio |\n",
    " | -1.5  | Estrella más brillante: Sirio |\n",
    " | -0.67 | Segunda estrella más brillante: Canopus |\n",
    " | -0.24 | Brillo máximo de Saturno |\n",
    " |  +3.0 | Estrellas débiles que son visibles en una vecindad urbana |\n",
    " | +6.0  | Estrellas débiles visibles al ojo humano |\n",
    " | +12.6 | Quasar más brillante |\n",
    " | +30 \t | Objetos más débiles observables con el Telescopio Espacial Hubble |\n",
    "\n",
    "+ Por otro lado tenemos la magnitud absoluta, la cual es una medida de la luminosidad de un objeto que se observa a una distancia de 10 Parsecs. Solemos denotarla por la letra $M$.\n",
    "\n",
    "Note que la magnitud absoluta, como su nombre lo dice, es una medida absoluta de la luminosidad de un cuerpo celeste. Dos objetos con la misma magnitud absoluta emiten la misma cantidad de luz. Mientras que magnitud aparente es una medida relativa, dos objetos pueden tener la misma magnitud aparente y emitir distintas cantidades de luz si uno se encuentra mas lejos de la tierra que otro.\n",
    "\n",
    "Entonces, una relación entre estas dos magnitudes puede entenderse como la distancia que hay entre un cuerpo celeste y la tierra. Un ejemplo de esto es el módulo de distancia ($\\mu$) que definimos como\n",
    "$$\\mu = m-M$$\n",
    "Otra cantidad relacionada es la distancia de luminosidad ($D_{L}$)\n",
    "$$D_{L} = 10^{\\frac{\\mu}{5} + 1}$$\n",
    "\n",
    "## Cosmología\n",
    "Para nuestro ejercicio, consideraremos que el universo es plano y que estamos en una etapa del universo donde la radiación inicial del universo se ha desvanecido totalmente. De la ecuación de Hubble podemos derivar la distancia de luminosidad de cualquier objeto si conocemos su corrimiento al rojo, la velocidad de la luz, la constante de Hubble y el parámetro de densidad de materia en el universo  \n",
    "\n",
    "$$ D_L(z; H_{0},\\Omega_{M}) = (1+z)\\frac{c}{H_{0}}\\int_{0}^{z}\\frac{dz}{\\sqrt{\\Omega_{M}(1+z)^{3} + (1-\\Omega_{M})}}$$\n",
    "\n",
    "Y asi mismo podemos conocer su módulo de distancia\n",
    "\n",
    "$$\\mu(z; H_{0}, \\Omega_{M}) = 5\\log_{10}(D_{L})-5$$\n",
    "\n",
    "## Supernovas 1a\n",
    "Las supernovas 1a son eventos que ocurren en sistemas binarios de estrellas, en la cual una de ellas es una enana blanca. Una supernova 1a ocurre cuando la enana blanca comienza a acretar materia proveniente de su compañera hasta que alcanza cierta masa crítica y explota. Dado que las condiciones de estos eventos son muy similares, todas las supernovas 1a brillan con la misma intensidad y por lo tanto su magnitud absoluta es la misma $M = −19.3$. Dado que desde la tierra podemos medir la magnitud aparente conocemos el módulo de luminosidad y la distancia de luminosidad de estos eventos.\n",
    "\n",
    "# Los Datos\n",
    "Supernova Cosmology Project tiene una compilación de las magnitudes aparentes y el corrimiento al rojo de 800 supernovas 1a. Estos datos pueden encontrarlos acá: http://supernova.lbl.gov/union/figures/SCPUnion2.1_mu_vs_z.txt . En cada columna encontrarán: El ID de la supernova, corrimiento al rojo, magnitud aparente y el error de la magnitud aparente. Hay una columna adicional que no es relevante para nuestros propositos."
   ]
  },
  {
   "cell_type": "markdown",
   "metadata": {},
   "source": [
    "# Ejercicio\n",
    "\n",
    "### Punto 1a (20 puntos):\n",
    "Escriba una función en Python que calcule la distancia de luminosidad $D_L$ y que reciba como parámetros, el redshift $z$, la constante de Hubble $H_{0}$, el parámetro de densidad de materia $\\Omega_{M}$ y la velocidad de la luz en el vacío $c$. Dado que la integral no puede hacerse de forma analítica, se recomienda utilizar scipy.integrate.quad. Usted debe familiarizarse con su funcionamiento guiandose por la documentación de Scipy.\n",
    "\n",
    "### Punto 1b (10 puntos):\n",
    "Escriba una función en Python que calcule el módulo de distancia $\\mu$ y que reciba como parámetros, el redshift $z$, la constante de Hubble $H_{0}$, el parámetro de densidad de materia $\\Omega_{M}$ y la velocidad de la luz en el vacío $c$, utilizando la función del punto anterior."
   ]
  },
  {
   "cell_type": "code",
   "execution_count": 1,
   "metadata": {
    "collapsed": false
   },
   "outputs": [
    {
     "name": "stdout",
     "output_type": "stream",
     "text": [
      "Populating the interactive namespace from numpy and matplotlib\n"
     ]
    }
   ],
   "source": [
    "import numpy as np\n",
    "import matplotlib.pyplot as plt\n",
    "from scipy import integrate\n",
    "import scipy as sc\n",
    "%pylab inline"
   ]
  },
  {
   "cell_type": "markdown",
   "metadata": {},
   "source": [
    "## 1a"
   ]
  },
  {
   "cell_type": "code",
   "execution_count": 2,
   "metadata": {
    "collapsed": true
   },
   "outputs": [],
   "source": [
    "def fun_to_inte(z,DM):\n",
    "    \n",
    "    return 1/np.sqrt(DM*(1+z)*(1+z)*(1+z)+(1-DM))"
   ]
  },
  {
   "cell_type": "code",
   "execution_count": 3,
   "metadata": {
    "collapsed": false
   },
   "outputs": [
    {
     "data": {
      "text/plain": [
       "0.012261864879628494"
      ]
     },
     "execution_count": 3,
     "metadata": {},
     "output_type": "execute_result"
    }
   ],
   "source": [
    "fun_to_inte(10,5)"
   ]
  },
  {
   "cell_type": "code",
   "execution_count": 4,
   "metadata": {
    "collapsed": false
   },
   "outputs": [],
   "source": [
    "def Dl(z,Ho,DM,c): # Distancia de luminosidad\n",
    "    return (1+z)*(c/Ho)*sc.integrate.quad(fun_to_inte,0,z,DM)[0]"
   ]
  },
  {
   "cell_type": "code",
   "execution_count": 5,
   "metadata": {
    "collapsed": false,
    "scrolled": true
   },
   "outputs": [
    {
     "data": {
      "text/plain": [
       "3.8374867732757907"
      ]
     },
     "execution_count": 5,
     "metadata": {},
     "output_type": "execute_result"
    }
   ],
   "source": [
    "Dl(0.2,556,47,30000)"
   ]
  },
  {
   "cell_type": "markdown",
   "metadata": {},
   "source": [
    "## 1b"
   ]
  },
  {
   "cell_type": "code",
   "execution_count": 6,
   "metadata": {
    "collapsed": true
   },
   "outputs": [],
   "source": [
    "def mu(z,Ho,DM,c):# modulo de distancia\n",
    "    return 5*np.log10(Dl(z,Ho,DM,c))-5"
   ]
  },
  {
   "cell_type": "code",
   "execution_count": 7,
   "metadata": {
    "collapsed": false,
    "scrolled": true
   },
   "outputs": [
    {
     "data": {
      "text/plain": [
       "1.6432694173100231"
      ]
     },
     "execution_count": 7,
     "metadata": {},
     "output_type": "execute_result"
    }
   ],
   "source": [
    "mu(0.197,63,8,9999)"
   ]
  },
  {
   "cell_type": "code",
   "execution_count": 8,
   "metadata": {
    "collapsed": false
   },
   "outputs": [],
   "source": [
    "import pandas as pd\n"
   ]
  },
  {
   "cell_type": "markdown",
   "metadata": {},
   "source": [
    "### Punto 2a (5 puntos):\n",
    "Cargue los datos dados por Supernova Cosmology Project como arrays de Numpy, usted debe tener un array para el redshift, otro para la magnitud aparente y otro para la incertidumbre de esta última. Note que no es necesario utilizar Astropy o Pandas para esta tarea, con numpy.loadtxt es suficiente.\n",
    "\n",
    "### Punto 2b (5 puntos):\n",
    "Habiendo cargado estos datos, escriba una función en Python que compute el Chi cuadrado como función de $H_{0}$ y $\\Omega_{M}$ utilizando el modelo definido en el punto 1 y los datos del punto 2.\n",
    "$$\\chi^{2}(H_0,\\Omega_M) = \\sum_{i=1}^{n} \\frac{(\\mu_{teo}(z_i; H_0, \\Omega_M) - \\mu_i)^2}{\\sigma_i^2}$$\n",
    "Note que $c$ no aparece explícitamente porque asumiremos que conocemos su valor, use el valor oficial de $c$.\n"
   ]
  },
  {
   "cell_type": "code",
   "execution_count": 9,
   "metadata": {
    "collapsed": false
   },
   "outputs": [],
   "source": [
    "datos=pd.read_table('SCPUnion2.1_mu_vs_z.txt')"
   ]
  },
  {
   "cell_type": "code",
   "execution_count": 10,
   "metadata": {
    "collapsed": false
   },
   "outputs": [],
   "source": [
    "ide=datos.values[:,0]\n",
    "rz=datos.values[:,1]\n",
    "mag_apa=datos.values[:,2]\n",
    "mag_err=datos.values[:,3]"
   ]
  },
  {
   "cell_type": "code",
   "execution_count": 11,
   "metadata": {
    "collapsed": false
   },
   "outputs": [
    {
     "data": {
      "text/plain": [
       "numpy.ndarray"
      ]
     },
     "execution_count": 11,
     "metadata": {},
     "output_type": "execute_result"
    }
   ],
   "source": [
    "M=-19.3\n",
    "mu_dat=mag_apa-M\n",
    "type(rz)"
   ]
  },
  {
   "cell_type": "code",
   "execution_count": 12,
   "metadata": {
    "collapsed": false
   },
   "outputs": [],
   "source": [
    "c=299792458\n",
    "def chi_quad(Ho,DM,c):\n",
    "    chi=0\n",
    "    for i in range(len(rz)):\n",
    "        chi = chi + ((mu(rz[i],Ho,DM,c)-mu_dat[i])**2)/mag_err[i]**2\n",
    "    return chi\n"
   ]
  },
  {
   "cell_type": "code",
   "execution_count": null,
   "metadata": {
    "collapsed": true
   },
   "outputs": [],
   "source": []
  },
  {
   "cell_type": "markdown",
   "metadata": {
    "collapsed": true
   },
   "source": [
    "\n",
    "### Punto 3a (30 puntos):\n",
    "Implemente desde cero el algoritmo de Metropolis-Hastings en Python para muestrear la verosimilitud\n",
    "$$\\mathcal{L}\\propto \\exp(-\\frac{1}{2}\\chi^{2}(H_0,\\Omega_M))$$\n",
    "Solo puede utilizar funciones basicas de python y de numpy dentro del algoritmo.\n",
    "\n",
    "### Punto 3b (10 puntos):\n",
    "Calcule la media y los percentiles 16% y 84% para los parámetros (ver numpy.percentiles). Haga un histograma para cada parámetro $H_0$ y $\\Omega_M$ usando matplotlib. Incluya en estos histogramas la media y los percentiles de sus parámetros.\n"
   ]
  },
  {
   "cell_type": "code",
   "execution_count": 13,
   "metadata": {
    "collapsed": false
   },
   "outputs": [
    {
     "data": {
      "text/plain": [
       "<matplotlib.text.Text at 0x7fcd0e837750>"
      ]
     },
     "execution_count": 13,
     "metadata": {},
     "output_type": "execute_result"
    },
    {
     "data": {
      "image/png": "[encoded data removed]",
      "text/plain": [
       "<matplotlib.figure.Figure at 0x7fcd0e8211d0>"
      ]
     },
     "metadata": {},
     "output_type": "display_data"
    }
   ],
   "source": [
    "plt.scatter(rz,mu_dat)\n",
    "plt.ylabel('distance module')\n",
    "plt.xlabel('red shift')"
   ]
  },
  {
   "cell_type": "code",
   "execution_count": 14,
   "metadata": {
    "collapsed": false
   },
   "outputs": [],
   "source": [
    "def likelyhood(y_obs, y_model):\n",
    "    chi_squared = (1.0/2.0)*sum((y_obs-y_model)**2)\n",
    "    return exp(-chi_squared)"
   ]
  },
  {
   "cell_type": "code",
   "execution_count": null,
   "metadata": {
    "collapsed": true
   },
   "outputs": [],
   "source": []
  },
  {
   "cell_type": "code",
   "execution_count": 15,
   "metadata": {
    "collapsed": false
   },
   "outputs": [
    {
     "name": "stdout",
     "output_type": "stream",
     "text": [
      "[ 89.8595435]\n",
      "[ 0.86158803]\n",
      "[ 23848066.92448977]\n"
     ]
    }
   ],
   "source": [
    "Ho_walk = empty((0)) #this is an empty list to keep all the steps\n",
    "Dm_walk = empty((0))\n",
    "l_walk = empty((0))\n",
    "\n",
    "Ho_walk = append(Ho_walk,100*random.random())\n",
    "Dm_walk = append(Dm_walk, random.random())\n",
    "\n",
    "y_init = []\n",
    "for j in range (len(mu_dat)):\n",
    "    y_init.append(mu(rz[j], Ho_walk, Dm_walk,c)[0]) \n",
    "\n",
    "chi=0\n",
    "like=chi_quad(Ho_walk,Dm_walk,c)  \n",
    "    \n",
    "l_walk = append(l_walk, like)\n",
    "print Ho_walk\n",
    "print Dm_walk\n",
    "print l_walk\n"
   ]
  },
  {
   "cell_type": "code",
   "execution_count": null,
   "metadata": {
    "collapsed": false,
    "scrolled": true
   },
   "outputs": [],
   "source": []
  },
  {
   "cell_type": "code",
   "execution_count": 16,
   "metadata": {
    "collapsed": false
   },
   "outputs": [
    {
     "name": "stderr",
     "output_type": "stream",
     "text": [
      "/opt/conda/envs/python2/lib/python2.7/site-packages/scipy/integrate/quadpack.py:357: IntegrationWarning: The occurrence of roundoff error is detected, which prevents \n",
      "  the requested tolerance from being achieved.  The error may be \n",
      "  underestimated.\n",
      "  warnings.warn(msg, IntegrationWarning)\n"
     ]
    }
   ],
   "source": [
    "n_iterations = 1000 #this is the number of iterations I want to make\n",
    "for i in range(n_iterations):\n",
    "    \n",
    "    Ho_prime = np.random.normal(Ho_walk[i], 0.5) \n",
    "    Dm_prime = np.random.normal(Dm_walk[i], 0.5)\n",
    "#    print Ho_prime\n",
    "    y_init = []\n",
    "    y_prime = []\n",
    "    for j in range (len(mu_dat)):\n",
    "        y_init.append(mu(rz[j], Ho_walk[i], Dm_walk[i],c))\n",
    "        y_prime.append(mu(rz[j], Ho_prime, Dm_prime,c))\n",
    "    l_init=chi_quad(Ho_walk[i],Dm_walk[i],c)#cuando uso la def del likelihood siempre me da \n",
    "    l_prime=chi_quad(Ho_prime,Dm_prime,c)    #cero porque chi es muy grande, por lo tanto use\n",
    "                                            #mi intuicion\n",
    "\n",
    "\n",
    "    alpha = l_init/l_prime\n",
    "    if(alpha>=1.0):\n",
    "        Ho_walk  = append(Ho_walk,Ho_prime)\n",
    "        Dm_walk  = append(Dm_walk,Dm_prime)\n",
    "        l_walk = append(l_walk, l_prime)\n",
    "    else:\n",
    "        beta = random.random()\n",
    "        if(beta<=alpha):\n",
    "            Ho_walk = append(Ho_walk,Ho_prime)\n",
    "            Dm_walk = append(Dm_walk,Dm_prime)\n",
    "            l_walk = append(l_walk, l_prime)\n",
    "        else:\n",
    "            Ho_walk = append(Ho_walk,Ho_walk[i])\n",
    "            Dm_walk = append(Dm_walk,Dm_walk[i])\n",
    "            l_walk = append(l_walk, l_init)\n"
   ]
  },
  {
   "cell_type": "code",
   "execution_count": 17,
   "metadata": {
    "collapsed": false
   },
   "outputs": [
    {
     "data": {
      "text/plain": [
       "<matplotlib.collections.PathCollection at 0x7fcd0bc47d10>"
      ]
     },
     "execution_count": 17,
     "metadata": {},
     "output_type": "execute_result"
    },
    {
     "data": {
      "image/png": "[encoded data removed]",
      "text/plain": [
       "<matplotlib.figure.Figure at 0x7fcd0c2bffd0>"
      ]
     },
     "metadata": {},
     "output_type": "display_data"
    }
   ],
   "source": [
    "scatter(Ho_walk, Dm_walk)"
   ]
  },
  {
   "cell_type": "code",
   "execution_count": 18,
   "metadata": {
    "collapsed": false,
    "scrolled": true
   },
   "outputs": [
    {
     "data": {
      "text/plain": [
       "<matplotlib.collections.PathCollection at 0x7fcd0bb793d0>"
      ]
     },
     "execution_count": 18,
     "metadata": {},
     "output_type": "execute_result"
    },
    {
     "data": {
      "image/png": "[encoded data removed]",
      "text/plain": [
       "<matplotlib.figure.Figure at 0x7fcd0bbfe290>"
      ]
     },
     "metadata": {},
     "output_type": "display_data"
    }
   ],
   "source": [
    "scatter(Ho_walk, -log(l_walk))"
   ]
  },
  {
   "cell_type": "code",
   "execution_count": 19,
   "metadata": {
    "collapsed": false
   },
   "outputs": [
    {
     "data": {
      "text/plain": [
       "<matplotlib.collections.PathCollection at 0x7fcd0baaf210>"
      ]
     },
     "execution_count": 19,
     "metadata": {},
     "output_type": "execute_result"
    },
    {
     "data": {
      "image/png": "[encoded data removed]",
      "text/plain": [
       "<matplotlib.figure.Figure at 0x7fcd0bba8a90>"
      ]
     },
     "metadata": {},
     "output_type": "display_data"
    }
   ],
   "source": [
    "scatter(Dm_walk, -log(l_walk))"
   ]
  },
  {
   "cell_type": "code",
   "execution_count": 20,
   "metadata": {
    "collapsed": true
   },
   "outputs": [],
   "source": [
    "min_b = amin(Dm_walk)\n",
    "max_b = amax(Dm_walk)\n",
    "min_m = amin(Ho_walk)\n",
    "max_m = amax(Ho_walk)\n",
    "grid_m, grid_b = mgrid[min_m:max_m:200j, min_b:max_b:200j]"
   ]
  },
  {
   "cell_type": "code",
   "execution_count": 21,
   "metadata": {
    "collapsed": true
   },
   "outputs": [],
   "source": [
    "Ho_mean=np.mean(Ho_walk)\n",
    "Dm_mean=np.mean(Dm_walk)"
   ]
  },
  {
   "cell_type": "code",
   "execution_count": 22,
   "metadata": {
    "collapsed": true
   },
   "outputs": [],
   "source": [
    "Ho_perce16=np.percentile(Ho_walk,16)\n",
    "Dm_perce16=np.percentile(Dm_walk,16)\n",
    "Ho_perce84=np.percentile(Ho_walk,84)\n",
    "Dm_perce84=np.percentile(Dm_walk,84)"
   ]
  },
  {
   "cell_type": "code",
   "execution_count": 36,
   "metadata": {
    "collapsed": false
   },
   "outputs": [
    {
     "data": {
      "text/plain": [
       "<matplotlib.legend.Legend at 0x7fcd0b93d510>"
      ]
     },
     "execution_count": 36,
     "metadata": {},
     "output_type": "execute_result"
    },
    {
     "data": {
      "image/png": "[encoded data removed]",
      "text/plain": [
       "<matplotlib.figure.Figure at 0x7fcd0b07d110>"
      ]
     },
     "metadata": {},
     "output_type": "display_data"
    }
   ],
   "source": [
    "count, bins, ignored =plt.hist(Ho_walk, 20, normed=True)\n",
    "plt.axvline(Ho_mean, color='b', linestyle='dashed', linewidth=2, label=\"mean\")\n",
    "plt.axvline(Ho_perce16, color='r', linewidth=2, label=\"Percentile 16\")\n",
    "plt.axvline(Ho_perce84, color='g', linewidth=2, label=\"Percentile 84\")\n",
    "plt.legend()"
   ]
  },
  {
   "cell_type": "code",
   "execution_count": 40,
   "metadata": {
    "collapsed": false
   },
   "outputs": [
    {
     "data": {
      "text/plain": [
       "<matplotlib.legend.Legend at 0x7fcd0aaf7d10>"
      ]
     },
     "execution_count": 40,
     "metadata": {},
     "output_type": "execute_result"
    },
    {
     "data": {
      "image/png": "[encoded data removed]",
      "text/plain": [
       "<matplotlib.figure.Figure at 0x7fcd0ac98c90>"
      ]
     },
     "metadata": {},
     "output_type": "display_data"
    }
   ],
   "source": [
    "count, bins, ignored =plt.hist(Dm_walk, 20, normed=True)\n",
    "plt.axvline(Dm_mean, color='b', linestyle='dashed', linewidth=2, label=\"mean\")\n",
    "plt.axvline(Dm_perce16, color='r', linewidth=2, label=\"Percentile 16\")\n",
    "plt.axvline(Dm_perce84, color='g', linewidth=2, label=\"Percentile 84\")\n",
    "plt.legend(loc=0)\n"
   ]
  },
  {
   "cell_type": "code",
   "execution_count": 26,
   "metadata": {
    "collapsed": false
   },
   "outputs": [
    {
     "name": "stdout",
     "output_type": "stream",
     "text": [
      "7.40634967262\n",
      "94.4902779977\n",
      "11.0683808052\n"
     ]
    }
   ],
   "source": [
    "max_likelihood_id = argmax(l_walk)\n",
    "best_m = Ho_walk[max_likelihood_id]\n",
    "best_b = Dm_walk[max_likelihood_id]\n",
    "print log10(l_walk[max_likelihood_id])\n",
    "print best_m\n",
    "print best_b"
   ]
  },
  {
   "cell_type": "code",
   "execution_count": 32,
   "metadata": {
    "collapsed": false
   },
   "outputs": [
    {
     "data": {
      "text/plain": [
       "[<matplotlib.lines.Line2D at 0x7fcd0b2fa310>]"
      ]
     },
     "execution_count": 32,
     "metadata": {},
     "output_type": "execute_result"
    },
    {
     "data": {
      "image/png": "[encoded data removed]",
      "text/plain": [
       "<matplotlib.figure.Figure at 0x7fcd0b3ef490>"
      ]
     },
     "metadata": {},
     "output_type": "display_data"
    }
   ],
   "source": [
    "best_y = []\n",
    "for i in range(len(rz)):\n",
    "    best_y.append(mu(rz[i], best_m, best_b,c))\n",
    "scatter(rz,mu_dat-35)\n",
    "plot(rz, best_y)"
   ]
  },
  {
   "cell_type": "code",
   "execution_count": null,
   "metadata": {
    "collapsed": true
   },
   "outputs": [],
   "source": []
  },
  {
   "cell_type": "code",
   "execution_count": null,
   "metadata": {
    "collapsed": true
   },
   "outputs": [],
   "source": []
  },
  {
   "cell_type": "markdown",
   "metadata": {},
   "source": [
    "### Punto 4a (10 puntos):\n",
    "Si su caminata aleatoria tiene $N$ pasos, calcule la varianza $\\sigma_{n}^{2}$ de la caminata aleatoria desde $n$ hasta $N$ para todos los $n$ desde $2$ hasta $N$. Si su cadena está bien mezclada esta varianza $\\sigma_{n}^{2}$ debería disminuir en función de $n$ y estabilizarse. Grafíquela.\n",
    "\n",
    "### Punto 4b (10 puntos):\n",
    "Compare sus resultados con los obtenidos por Planck (ver http://arxiv.org/abs/1502.01589 Tabla 3) con los resultados de los puntos 3b, 4a y 4c concluya. Los resultados obtenidos son razonables? la caminata aleatoria se encuentra bien mezclada? etc."
   ]
  },
  {
   "cell_type": "code",
   "execution_count": null,
   "metadata": {
    "collapsed": true
   },
   "outputs": [],
   "source": []
  },
  {
   "cell_type": "markdown",
   "metadata": {},
   "source": [
    "## 4b"
   ]
  },
  {
   "cell_type": "markdown",
   "metadata": {},
   "source": [
    "En la literatura encontramos para $ \\Omega_m$ un valor de 0.308 +/- 0.012, y para $H_o$ un valor de 67.8 +/- 0.9. Los valores que obtuve fueron para $ \\Omega_m$ de 11.07 y para $H_o$ de 94.49. Son bastante diferentes, en especial el de $ \\Omega_m$, esto puede deberse a que al haber tantos datos, el $\\chi^2$ resultaba ser enorme y el likelihood el computador lo aproximaba a cero, para la decicion de camino decidi usar el chi y cambiar la decicion del $\\alpha$ por las contrarias, sin embargo parece no haber arrojado buenos resultados. de todas maneras se nota que existe una tendencia ya que para el $H_o$ los valores varian entre 85 y 103 y para el $ \\Omega_m$ varian entre cero y 11. Seguramente el codigo debe tener un error en la implementacion y debe ser revisado de nuevo para obtener resultador coherentes."
   ]
  },
  {
   "cell_type": "code",
   "execution_count": null,
   "metadata": {
    "collapsed": true
   },
   "outputs": [],
   "source": []
  },
  {
   "cell_type": "code",
   "execution_count": null,
   "metadata": {
    "collapsed": true
   },
   "outputs": [],
   "source": []
  },
  {
   "cell_type": "code",
   "execution_count": null,
   "metadata": {
    "collapsed": true
   },
   "outputs": [],
   "source": []
  },
  {
   "cell_type": "code",
   "execution_count": null,
   "metadata": {
    "collapsed": true
   },
   "outputs": [],
   "source": []
  },
  {
   "cell_type": "code",
   "execution_count": null,
   "metadata": {
    "collapsed": true
   },
   "outputs": [],
   "source": []
  },
  {
   "cell_type": "code",
   "execution_count": null,
   "metadata": {
    "collapsed": true
   },
   "outputs": [],
   "source": []
  },
  {
   "cell_type": "code",
   "execution_count": null,
   "metadata": {
    "collapsed": true
   },
   "outputs": [],
   "source": []
  }
 ],
 "metadata": {
  "kernelspec": {
   "display_name": "Python 2",
   "language": "python",
   "name": "python2"
  },
  "language_info": {
   "codemirror_mode": {
    "name": "ipython",
    "version": 2
   },
   "file_extension": ".py",
   "mimetype": "text/x-python",
   "name": "python",
   "nbconvert_exporter": "python",
   "pygments_lexer": "ipython2",
   "version": "2.7.11"
  }
 },
 "nbformat": 4,
 "nbformat_minor": 0
}
