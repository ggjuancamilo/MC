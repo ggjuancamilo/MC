{
 "cells": [
  {
   "cell_type": "markdown",
   "metadata": {},
   "source": [
    "### Python2.7\n"
   ]
  },
  {
   "cell_type": "markdown",
   "metadata": {},
   "source": [
    "### Exercise\n",
    "\n",
    "In Quantum Mechanics the energy of the bound states for a particle in a potential well of depth $V_0=-10$ (In units where $\\hbar=1$, $m=1$ and the well has width $2a=1$) are described by the following relation\n",
    "\n",
    "$$\n",
    "\\sqrt{|V_0|-E} \\tan(\\sqrt{|V_0|-E})\\equiv \\sqrt{10−E} \\tan(\\sqrt{10−E}) = \\sqrt{E}\n",
    "$$\n",
    "\n",
    "Write a program (in Python) to find the values for $E$ that satisfy this equation, i.e. the energy $E>0$ of the bound states that can exist in this potential well. How many of these states can you find for $V_0=10,50,100$?"
   ]
  },
  {
   "cell_type": "markdown",
   "metadata": {},
   "source": [
    "Para este problema el metodo para hayar raices de Newton-Raphson considero que no sirve por la forma de esta función, sin embargo no tengo argumentos para decir por que, por lo tanto utilicé el metodo de bisección para hallar las raices correspondientes a la función \n",
    "$$\n",
    "\\sqrt{|V_0|-E} \\tan(\\sqrt{|V_0|-E})\\ - \\sqrt{E} = 0\n",
    "$$\n"
   ]
  },
  {
   "cell_type": "code",
   "execution_count": 27,
   "metadata": {},
   "outputs": [],
   "source": [
    "import numpy as np\n",
    "import matplotlib.pyplot as plt\n",
    "%matplotlib inline"
   ]
  },
  {
   "cell_type": "code",
   "execution_count": 28,
   "metadata": {},
   "outputs": [],
   "source": [
    "def fun(x):\n",
    "    return np.sqrt(V-x)*np.tan(np.sqrt(V-x))-np.sqrt(x)"
   ]
  },
  {
   "cell_type": "code",
   "execution_count": 29,
   "metadata": {},
   "outputs": [],
   "source": [
    "def der(x):\n",
    "    h=0.00001\n",
    "    return (fun(x+h)-fun(x-h))/2*h"
   ]
  },
  {
   "cell_type": "code",
   "execution_count": 30,
   "metadata": {
    "collapsed": false,
    "jupyter": {
     "outputs_hidden": false
    }
   },
   "outputs": [],
   "source": [
    "def bis(a,b,tol):\n",
    "\n",
    "    if fun(a)*fun(b)>0:\n",
    "        return -1\n",
    "    c = (a+b)/2.0\n",
    "    while (b-a)/2.0 > tol:\n",
    "        if fun(c) == 0:\n",
    "            return c\n",
    "        elif fun(a)*fun(c) < 0:\n",
    "            b=c\n",
    "        else:\n",
    "            a=c\n",
    "        c = (a+b)/2.0\n",
    "    return c"
   ]
  },
  {
   "cell_type": "code",
   "execution_count": 31,
   "metadata": {
    "collapsed": false,
    "jupyter": {
     "outputs_hidden": false
    }
   },
   "outputs": [
    {
     "name": "stdout",
     "output_type": "stream",
     "text": [
      "los valores energeticos que satisfacen la ecuacion para V=10 son  [0.0040242423484696931, 7.5325924559911979, 8.592788870274056]\n"
     ]
    }
   ],
   "source": [
    "V=10\n",
    "res=[]\n",
    "x=np.linspace(0,V,500*V)\n",
    "for i in range (len(x)-1):\n",
    "    if(bis(x[i],x[i+1],1E-10)!=-1):\n",
    "        res.append(bis(x[i],x[i+1],1E-5))\n",
    "print \"los valores energeticos que satisfacen la ecuacion para V=10 son \", res"
   ]
  },
  {
   "cell_type": "code",
   "execution_count": 32,
   "metadata": {
    "collapsed": false,
    "jupyter": {
     "outputs_hidden": false
    }
   },
   "outputs": [
    {
     "name": "stdout",
     "output_type": "stream",
     "text": [
      "los valores energeticos que satisfacen la ecuacion para V=50 son  [5.9653714273570948, 27.793385172906916, 33.232790249109968, 47.532596616364657, 48.109150928537147]\n"
     ]
    }
   ],
   "source": [
    "V=50\n",
    "res=[]\n",
    "x=np.linspace(0,V,500*V)\n",
    "for i in range (len(x)-1):\n",
    "    if(bis(x[i],x[i+1],1E-10)!=-1):\n",
    "        res.append(bis(x[i],x[i+1],1E-5))\n",
    "print \"los valores energeticos que satisfacen la ecuacion para V=50 son \", res"
   ]
  },
  {
   "cell_type": "code",
   "execution_count": 33,
   "metadata": {
    "collapsed": false,
    "jupyter": {
     "outputs_hidden": false
    }
   },
   "outputs": [
    {
     "name": "stdout",
     "output_type": "stream",
     "text": [
      "los valores energeticos que satisfacen la ecuacion para V=100 son  [6.319196696433929, 38.314977237044744, 50.030774052981073, 77.793391805336114, 81.757752342546851, 97.532599089481806, 97.962092054341085]\n"
     ]
    }
   ],
   "source": [
    "V=100\n",
    "res=[]\n",
    "x=np.linspace(0,V,500*V)\n",
    "for i in range (len(x)-1):\n",
    "    if(bis(x[i],x[i+1],1E-10)!=-1):\n",
    "        res.append(bis(x[i],x[i+1],1E-5))\n",
    "print \"los valores energeticos que satisfacen la ecuacion para V=100 son \", res"
   ]
  },
  {
   "cell_type": "code",
   "execution_count": null,
   "metadata": {
    "collapsed": true,
    "jupyter": {
     "outputs_hidden": true
    }
   },
   "outputs": [],
   "source": []
  },
  {
   "cell_type": "code",
   "execution_count": null,
   "metadata": {
    "collapsed": true,
    "jupyter": {
     "outputs_hidden": true
    }
   },
   "outputs": [],
   "source": []
  }
 ],
 "metadata": {
  "kernelspec": {
   "display_name": "Python 3",
   "language": "python",
   "name": "python3"
  },
  "language_info": {
   "codemirror_mode": {
    "name": "ipython",
    "version": 3
   },
   "file_extension": ".py",
   "mimetype": "text/x-python",
   "name": "python",
   "nbconvert_exporter": "python",
   "pygments_lexer": "ipython3",
   "version": "3.7.6"
  }
 },
 "nbformat": 4,
 "nbformat_minor": 4
}
