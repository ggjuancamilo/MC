{
 "cells": [
  {
   "cell_type": "markdown",
   "metadata": {},
   "source": [
    "### Python2.7\n"
   ]
  },
  {
   "cell_type": "code",
   "execution_count": 1,
   "metadata": {
    "collapsed": false,
    "jupyter": {
     "outputs_hidden": false
    }
   },
   "outputs": [
    {
     "name": "stdout",
     "output_type": "stream",
     "text": [
      "Populating the interactive namespace from numpy and matplotlib\n"
     ]
    }
   ],
   "source": [
    "import matplotlib.pyplot as plt\n",
    "%pylab inline\n"
   ]
  },
  {
   "cell_type": "markdown",
   "metadata": {},
   "source": [
    "# Monty hall"
   ]
  },
  {
   "cell_type": "markdown",
   "metadata": {},
   "source": [
    "## a"
   ]
  },
  {
   "cell_type": "code",
   "execution_count": 2,
   "metadata": {
    "collapsed": true,
    "jupyter": {
     "outputs_hidden": true
    }
   },
   "outputs": [],
   "source": [
    "c=0\n",
    "a=0"
   ]
  },
  {
   "cell_type": "code",
   "execution_count": 3,
   "metadata": {
    "collapsed": false,
    "jupyter": {
     "outputs_hidden": false
    }
   },
   "outputs": [],
   "source": [
    "for i in range(0,1000):\n",
    "    e=random.randint(0, 3) # eleccion del jugador\n",
    "    b=random.randint(0, 3) #puerta con carro\n",
    "    if(b==e):\n",
    "        a=a+1\n",
    "    else:\n",
    "        c=c+1\n",
    "    "
   ]
  },
  {
   "cell_type": "code",
   "execution_count": 4,
   "metadata": {
    "collapsed": false,
    "jupyter": {
     "outputs_hidden": false
    }
   },
   "outputs": [
    {
     "name": "stdout",
     "output_type": "stream",
     "text": [
      "la cantidad de personas que ganaron auto fueron  350\n",
      "la cantidad de personas que ganaron una hermosa cabra fueron  650\n"
     ]
    }
   ],
   "source": [
    "print \"la cantidad de personas que ganaron auto fueron \", a \n",
    "print \"la cantidad de personas que ganaron una hermosa cabra fueron \", c"
   ]
  },
  {
   "cell_type": "markdown",
   "metadata": {},
   "source": [
    "## b"
   ]
  },
  {
   "cell_type": "code",
   "execution_count": 5,
   "metadata": {
    "collapsed": true,
    "jupyter": {
     "outputs_hidden": true
    }
   },
   "outputs": [],
   "source": [
    "c=0\n",
    "a=0"
   ]
  },
  {
   "cell_type": "code",
   "execution_count": 6,
   "metadata": {
    "collapsed": true,
    "jupyter": {
     "outputs_hidden": true
    }
   },
   "outputs": [],
   "source": [
    "for i in range(0,1000):\n",
    "    e=random.randint(0, 3) # eleccion del jugador\n",
    "    b=random.randint(0, 3) #puerta con carro\n",
    "    if(b==e):\n",
    "        c=c+1\n",
    "    else:\n",
    "        a=a+1\n",
    "    "
   ]
  },
  {
   "cell_type": "code",
   "execution_count": 7,
   "metadata": {
    "collapsed": false,
    "jupyter": {
     "outputs_hidden": false
    }
   },
   "outputs": [
    {
     "name": "stdout",
     "output_type": "stream",
     "text": [
      "la cantidad de personas que ganaron auto fueron  651\n",
      "la cantidad de personas que ganaron una hermosa cabra fueron  349\n"
     ]
    }
   ],
   "source": [
    "print \"la cantidad de personas que ganaron auto fueron \", a \n",
    "print \"la cantidad de personas que ganaron una hermosa cabra fueron \", c"
   ]
  },
  {
   "cell_type": "markdown",
   "metadata": {},
   "source": [
    "# Cumpleaños"
   ]
  },
  {
   "cell_type": "code",
   "execution_count": 8,
   "metadata": {
    "collapsed": false,
    "jupyter": {
     "outputs_hidden": false
    }
   },
   "outputs": [],
   "source": [
    "n=linspace(1,100,100)#Cantidad de personas\n",
    "p1=zeros(size(n))"
   ]
  },
  {
   "cell_type": "code",
   "execution_count": 9,
   "metadata": {
    "collapsed": false,
    "jupyter": {
     "outputs_hidden": false
    }
   },
   "outputs": [],
   "source": [
    "for u in range (10000):\n",
    "\n",
    "    p=[]    \n",
    "    for i in range(size(n)):\n",
    "        g=[]\n",
    "        \n",
    "        p.append(0)\n",
    "        for j in range (int(n[i])):\n",
    "            \n",
    "            g.append(random.randint(1, 366))\n",
    "        for k in range(size(g)):\n",
    "            if(p[i]==0):\n",
    "            \n",
    "                for l in range(k+1,size(g)):\n",
    "                    if(g[k]==g[l]):\n",
    "                        p[i]=p[i]+1\n",
    "                        break\n",
    "    for i in range(size(n)):\n",
    "        p1[i]=p1[i]+p[i]\n",
    "\n",
    "p1=p1/10000"
   ]
  },
  {
   "cell_type": "code",
   "execution_count": 10,
   "metadata": {
    "collapsed": false,
    "jupyter": {
     "outputs_hidden": false
    }
   },
   "outputs": [
    {
     "data": {
      "text/plain": [
       "array([ 0.    ,  0.0024,  0.0088,  0.0132,  0.0255,  0.0396,  0.0567,\n",
       "        0.076 ,  0.0933,  0.1128,  0.1477,  0.1693,  0.1993,  0.217 ,\n",
       "        0.2564,  0.2762,  0.3113,  0.3459,  0.386 ,  0.4094,  0.4508,\n",
       "        0.4688,  0.5045,  0.5366,  0.5753,  0.598 ,  0.6322,  0.6635,\n",
       "        0.6784,  0.7179,  0.7242,  0.7484,  0.7763,  0.7946,  0.8153,\n",
       "        0.8311,  0.8551,  0.8613,  0.8836,  0.8895,  0.9054,  0.9094,\n",
       "        0.9251,  0.9366,  0.9404,  0.9505,  0.9545,  0.9602,  0.9634,\n",
       "        0.9704,  0.9712,  0.9784,  0.9817,  0.9831,  0.9869,  0.9864,\n",
       "        0.9896,  0.9926,  0.9931,  0.9955,  0.9953,  0.997 ,  0.9956,\n",
       "        0.997 ,  0.9973,  0.9986,  0.9984,  0.9983,  0.9991,  0.9991,\n",
       "        0.9997,  0.9997,  0.9996,  0.9993,  0.9999,  0.9997,  0.9998,\n",
       "        0.9999,  1.    ,  0.9999,  0.9998,  1.    ,  1.    ,  1.    ,\n",
       "        1.    ,  1.    ,  1.    ,  1.    ,  1.    ,  1.    ,  1.    ,\n",
       "        1.    ,  1.    ,  1.    ,  1.    ,  1.    ,  1.    ,  1.    ,\n",
       "        1.    ,  1.    ])"
      ]
     },
     "execution_count": 10,
     "metadata": {},
     "output_type": "execute_result"
    }
   ],
   "source": [
    "p1"
   ]
  },
  {
   "cell_type": "code",
   "execution_count": 11,
   "metadata": {
    "collapsed": false,
    "jupyter": {
     "outputs_hidden": false
    }
   },
   "outputs": [
    {
     "data": {
      "text/plain": [
       "<matplotlib.text.Text at 0x7f8de341c350>"
      ]
     },
     "execution_count": 11,
     "metadata": {},
     "output_type": "execute_result"
    },
    {
     "name": "stderr",
     "output_type": "stream",
     "text": [
      "/usr/lib/python2.7/dist-packages/matplotlib/collections.py:571: FutureWarning: elementwise comparison failed; returning scalar instead, but in the future will perform elementwise comparison\n",
      "  if self._edgecolors == str('face'):\n"
     ]
    },
    {
     "data": {
      "image/png": "[encoded data removed]",
      "text/plain": [
       "<matplotlib.figure.Figure at 0x7f8de33a85d0>"
      ]
     },
     "metadata": {},
     "output_type": "display_data"
    }
   ],
   "source": [
    "plt.scatter(n,p1)\n",
    "plt.xlim(0,100)\n",
    "plt.ylim(0,1)\n",
    "plt.xlabel(\"Cantidad de personas\")\n",
    "plt.ylabel(\"posibilidad de un cumpleanos repetido\")\n"
   ]
  },
  {
   "cell_type": "code",
   "execution_count": 12,
   "metadata": {
    "collapsed": false,
    "jupyter": {
     "outputs_hidden": false
    }
   },
   "outputs": [
    {
     "data": {
      "text/plain": [
       "<matplotlib.text.Text at 0x7f8de315bf90>"
      ]
     },
     "execution_count": 12,
     "metadata": {},
     "output_type": "execute_result"
    },
    {
     "data": {
      "image/png": "[encoded data removed]",
      "text/plain": [
       "<matplotlib.figure.Figure at 0x7f8de3428a50>"
      ]
     },
     "metadata": {},
     "output_type": "display_data"
    }
   ],
   "source": [
    "plt.scatter(n,p1)\n",
    "plt.xlim(0,60)\n",
    "plt.ylim(0,1)\n",
    "plt.xlabel(\"Cantidad de personas\")\n",
    "plt.ylabel(\"posibilidad de un cumpleanos repetido\")"
   ]
  },
  {
   "cell_type": "markdown",
   "metadata": {},
   "source": [
    "# Apuestas"
   ]
  },
  {
   "cell_type": "code",
   "execution_count": 73,
   "metadata": {
    "collapsed": false,
    "jupyter": {
     "outputs_hidden": false
    }
   },
   "outputs": [],
   "source": [
    "p=[]\n",
    "p1=zeros(9)\n",
    "for i in range (9):\n",
    "    p.append(0.1000000000*(i+1))"
   ]
  },
  {
   "cell_type": "code",
   "execution_count": 74,
   "metadata": {
    "collapsed": false,
    "jupyter": {
     "outputs_hidden": false
    }
   },
   "outputs": [],
   "source": [
    "for k in range(10000):\n",
    "    for i in range (9):\n",
    "        b=100000 #escojo un numero grande para volver la probabilidad algo un poco mas continuo\n",
    "        N=10\n",
    "        A=b/10\n",
    "        for j in range (50):\n",
    "            if(p[i]>random.random()):\n",
    "                b=b+A\n",
    "                A=A+(b/N)\n",
    "            else:\n",
    "                b=b-A\n",
    "            if(b<0):\n",
    "                break\n",
    "        \n",
    "        if(b<=0):\n",
    "            p1[i]=p1[i]+1\n",
    "p1=p1/10000"
   ]
  },
  {
   "cell_type": "code",
   "execution_count": 75,
   "metadata": {
    "collapsed": false,
    "jupyter": {
     "outputs_hidden": false
    }
   },
   "outputs": [
    {
     "data": {
      "text/plain": [
       "array([ 1.    ,  1.    ,  1.    ,  1.    ,  0.9974,  0.9638,  0.7705,\n",
       "        0.358 ,  0.0513])"
      ]
     },
     "execution_count": 75,
     "metadata": {},
     "output_type": "execute_result"
    }
   ],
   "source": [
    "p1"
   ]
  },
  {
   "cell_type": "code",
   "execution_count": 78,
   "metadata": {
    "collapsed": false,
    "jupyter": {
     "outputs_hidden": false
    }
   },
   "outputs": [
    {
     "name": "stdout",
     "output_type": "stream",
     "text": [
      "la posibilidad de perder todo el dinero el 50 jugadas para p= 0.1  es de  100.0 %\n",
      "la posibilidad de perder todo el dinero el 50 jugadas para p= 0.2  es de  100.0 %\n",
      "la posibilidad de perder todo el dinero el 50 jugadas para p= 0.3  es de  100.0 %\n",
      "la posibilidad de perder todo el dinero el 50 jugadas para p= 0.4  es de  100.0 %\n",
      "la posibilidad de perder todo el dinero el 50 jugadas para p= 0.5  es de  99.74 %\n",
      "la posibilidad de perder todo el dinero el 50 jugadas para p= 0.6  es de  96.38 %\n",
      "la posibilidad de perder todo el dinero el 50 jugadas para p= 0.7  es de  77.05 %\n",
      "la posibilidad de perder todo el dinero el 50 jugadas para p= 0.8  es de  35.8 %\n",
      "la posibilidad de perder todo el dinero el 50 jugadas para p= 0.9  es de  5.13 %\n"
     ]
    }
   ],
   "source": [
    "print \"la posibilidad de perder todo el dinero el 50 jugadas para p=\",p[0],\" es de \",p1[0]*100,\"%\"\n",
    "print \"la posibilidad de perder todo el dinero el 50 jugadas para p=\",p[1],\" es de \",p1[1]*100,\"%\"\n",
    "print \"la posibilidad de perder todo el dinero el 50 jugadas para p=\",p[2],\" es de \",p1[2]*100,\"%\"\n",
    "print \"la posibilidad de perder todo el dinero el 50 jugadas para p=\",p[3],\" es de \",p1[3]*100,\"%\"\n",
    "print \"la posibilidad de perder todo el dinero el 50 jugadas para p=\",p[4],\" es de \",p1[4]*100,\"%\"\n",
    "print \"la posibilidad de perder todo el dinero el 50 jugadas para p=\",p[5],\" es de \",p1[5]*100,\"%\"\n",
    "print \"la posibilidad de perder todo el dinero el 50 jugadas para p=\",p[6],\" es de \",p1[6]*100,\"%\"\n",
    "print \"la posibilidad de perder todo el dinero el 50 jugadas para p=\",p[7],\" es de \",p1[7]*100,\"%\"\n",
    "print \"la posibilidad de perder todo el dinero el 50 jugadas para p=\",p[8],\" es de \",p1[8]*100,\"%\"\n"
   ]
  },
  {
   "cell_type": "code",
   "execution_count": null,
   "metadata": {
    "collapsed": true,
    "jupyter": {
     "outputs_hidden": true
    }
   },
   "outputs": [],
   "source": []
  },
  {
   "cell_type": "code",
   "execution_count": null,
   "metadata": {
    "collapsed": true,
    "jupyter": {
     "outputs_hidden": true
    }
   },
   "outputs": [],
   "source": []
  }
 ],
 "metadata": {
  "kernelspec": {
   "display_name": "Python 3",
   "language": "python",
   "name": "python3"
  },
  "language_info": {
   "codemirror_mode": {
    "name": "ipython",
    "version": 3
   },
   "file_extension": ".py",
   "mimetype": "text/x-python",
   "name": "python",
   "nbconvert_exporter": "python",
   "pygments_lexer": "ipython3",
   "version": "3.7.6"
  }
 },
 "nbformat": 4,
 "nbformat_minor": 4
}
